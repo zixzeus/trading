{
 "cells": [
  {
   "cell_type": "code",
   "execution_count": 4,
   "id": "ad229dab",
   "metadata": {},
   "outputs": [
    {
     "name": "stdout",
     "output_type": "stream",
     "text": [
      "June 15th, 2020\n",
      "December 15th, 2021\n"
     ]
    }
   ],
   "source": [
    "#import the Quant Lib\n",
    "import QuantLib as ql\n",
    "\n",
    "# Let the today date whenwe want to value a instrument be\n",
    "today = ql.Date(15,6,2020)\n",
    "\n",
    "# we can set evaluationDate in QL as\n",
    "ql.Settings.instance().evaluationDate = today\n",
    "print(ql.Settings.instance().evaluationDate);\n",
    "# prints..June 15th, 2020\n",
    "\n",
    "# or you can do\n",
    "today = ql.Date(15,12,2021);\n",
    "ql.Settings.instance().setEvaluationDate(today)\n",
    "print(ql.Settings.instance().evaluationDate)\n",
    "# prints..December 15th, 2021"
   ]
  },
  {
   "cell_type": "code",
   "execution_count": 5,
   "id": "409b2bf8",
   "metadata": {},
   "outputs": [
    {
     "ename": "TypeError",
     "evalue": "UnitedStates.__init__() missing 1 required positional argument: 'm'",
     "output_type": "error",
     "traceback": [
      "\u001b[0;31m---------------------------------------------------------------------------\u001b[0m",
      "\u001b[0;31mTypeError\u001b[0m                                 Traceback (most recent call last)",
      "Cell \u001b[0;32mIn[5], line 4\u001b[0m\n\u001b[1;32m      1\u001b[0m settlementDays \u001b[38;5;241m=\u001b[39m \u001b[38;5;241m2\u001b[39m\n\u001b[1;32m      3\u001b[0m \u001b[38;5;66;03m# Holiday calendar of united states\u001b[39;00m\n\u001b[0;32m----> 4\u001b[0m calendar \u001b[38;5;241m=\u001b[39m ql\u001b[38;5;241m.\u001b[39mUnitedStates()\n\u001b[1;32m      6\u001b[0m forwardRate \u001b[38;5;241m=\u001b[39m \u001b[38;5;241m0.05\u001b[39m\n\u001b[1;32m      8\u001b[0m \u001b[38;5;124;03m\"\"\"Day Counter provides methods for determining the length of a time period according to given market convention,\u001b[39;00m\n\u001b[1;32m      9\u001b[0m \u001b[38;5;124;03mboth as a number of days and as a year fraction.\"\"\"\u001b[39;00m\n",
      "\u001b[0;31mTypeError\u001b[0m: UnitedStates.__init__() missing 1 required positional argument: 'm'"
     ]
    }
   ],
   "source": [
    "settlementDays = 2\n",
    "\n",
    "# Holiday calendar of united states\n",
    "calendar = ql.UnitedStates()\n",
    "\n",
    "forwardRate = 0.05\n",
    "\n",
    "\"\"\"Day Counter provides methods for determining the length of a time period according to given market convention,\n",
    "both as a number of days and as a year fraction.\"\"\"\n",
    "dayCounter = ql.Actual360()\n",
    "\n",
    "# Construct flat forward rate term structure\n",
    "flatForwardTermStructure = ql.FlatForward(settlementDays, calendar, forwardRate, dayCounter)\n",
    "\n",
    "flatForwardTermStructure.referenceDate()\n",
    "\n",
    "print(\"Max Date: \", flatForwardTermStructure.maxDate())"
   ]
  },
  {
   "cell_type": "code",
   "execution_count": 8,
   "id": "5f21e8a5",
   "metadata": {},
   "outputs": [],
   "source": [
    "import math"
   ]
  },
  {
   "cell_type": "code",
   "execution_count": 9,
   "id": "0f9f6d7c",
   "metadata": {},
   "outputs": [],
   "source": [
    "r = math.exp(0.015*1/396)"
   ]
  },
  {
   "cell_type": "code",
   "execution_count": 10,
   "id": "bd898d7a",
   "metadata": {},
   "outputs": [
    {
     "data": {
      "text/plain": [
       "1.000037879505289"
      ]
     },
     "execution_count": 10,
     "metadata": {},
     "output_type": "execute_result"
    }
   ],
   "source": [
    "r"
   ]
  },
  {
   "cell_type": "code",
   "execution_count": 11,
   "id": "82d45089",
   "metadata": {},
   "outputs": [],
   "source": [
    "d = math.exp(-0.19*math.sqrt(1/396))"
   ]
  },
  {
   "cell_type": "code",
   "execution_count": 12,
   "id": "fa143b67",
   "metadata": {},
   "outputs": [
    {
     "data": {
      "text/plain": [
       "0.9904975768423465"
      ]
     },
     "execution_count": 12,
     "metadata": {},
     "output_type": "execute_result"
    }
   ],
   "source": [
    "d"
   ]
  },
  {
   "cell_type": "code",
   "execution_count": 13,
   "id": "c126b1c2",
   "metadata": {},
   "outputs": [],
   "source": [
    "u = math.exp(0.19*math.sqrt(1/396))"
   ]
  },
  {
   "cell_type": "code",
   "execution_count": 14,
   "id": "2da037eb",
   "metadata": {},
   "outputs": [
    {
     "data": {
      "text/plain": [
       "1.0095935854663538"
      ]
     },
     "execution_count": 14,
     "metadata": {},
     "output_type": "execute_result"
    }
   ],
   "source": [
    "u"
   ]
  },
  {
   "cell_type": "code",
   "execution_count": 15,
   "id": "70b0299e",
   "metadata": {},
   "outputs": [],
   "source": [
    "p = (r-d)/(u-d)"
   ]
  },
  {
   "cell_type": "code",
   "execution_count": 16,
   "id": "98e95f1d",
   "metadata": {},
   "outputs": [
    {
     "data": {
      "text/plain": [
       "0.49959668801932927"
      ]
     },
     "execution_count": 16,
     "metadata": {},
     "output_type": "execute_result"
    }
   ],
   "source": [
    "p"
   ]
  },
  {
   "cell_type": "code",
   "execution_count": 17,
   "id": "49f104e5",
   "metadata": {},
   "outputs": [
    {
     "data": {
      "text/plain": [
       "0.009593585466353804"
      ]
     },
     "execution_count": 17,
     "metadata": {},
     "output_type": "execute_result"
    }
   ],
   "source": [
    "u-1"
   ]
  },
  {
   "cell_type": "code",
   "execution_count": 18,
   "id": "bacacb4d",
   "metadata": {},
   "outputs": [
    {
     "data": {
      "text/plain": [
       "-0.009502423157653483"
      ]
     },
     "execution_count": 18,
     "metadata": {},
     "output_type": "execute_result"
    }
   ],
   "source": [
    "d-1"
   ]
  },
  {
   "cell_type": "code",
   "execution_count": null,
   "id": "81a959d8",
   "metadata": {},
   "outputs": [],
   "source": []
  }
 ],
 "metadata": {
  "kernelspec": {
   "display_name": "Python 3 (ipykernel)",
   "language": "python",
   "name": "python3"
  },
  "language_info": {
   "codemirror_mode": {
    "name": "ipython",
    "version": 3
   },
   "file_extension": ".py",
   "mimetype": "text/x-python",
   "name": "python",
   "nbconvert_exporter": "python",
   "pygments_lexer": "ipython3",
   "version": "3.11.5"
  }
 },
 "nbformat": 4,
 "nbformat_minor": 5
}

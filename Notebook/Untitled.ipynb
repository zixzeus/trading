{
 "cells": [
  {
   "cell_type": "code",
   "id": "ad229dab",
   "metadata": {
    "ExecuteTime": {
     "end_time": "2024-09-08T13:22:03.126674Z",
     "start_time": "2024-09-08T13:22:03.050841Z"
    }
   },
   "source": [
    "#import the Quant Lib\n",
    "import QuantLib as ql\n",
    "\n",
    "# Let the today date whenwe want to value a instrument be\n",
    "today = ql.Date(15,6,2020)\n",
    "\n",
    "# we can set evaluationDate in QL as\n",
    "ql.Settings.instance().evaluationDate = today\n",
    "print(ql.Settings.instance().evaluationDate);\n",
    "# prints..June 15th, 2020\n",
    "\n",
    "# or you can do\n",
    "today = ql.Date(15,12,2021);\n",
    "ql.Settings.instance().setEvaluationDate(today)\n",
    "print(ql.Settings.instance().evaluationDate)\n",
    "# prints..December 15th, 2021"
   ],
   "outputs": [
    {
     "name": "stdout",
     "output_type": "stream",
     "text": [
      "June 15th, 2020\n",
      "December 15th, 2021\n"
     ]
    },
    {
     "name": "stderr",
     "output_type": "stream",
     "text": [
      "E:\\anaconda3\\Lib\\site-packages\\QuantLib\\QuantLib.py:30056: FutureWarning: setEvaluationDate is deprecated; use evaluationDate\n",
      "  return _QuantLib.Settings_setEvaluationDate(self, d)\n"
     ]
    }
   ],
   "execution_count": 1
  },
  {
   "cell_type": "code",
   "id": "409b2bf8",
   "metadata": {
    "ExecuteTime": {
     "end_time": "2024-09-08T13:25:44.056002Z",
     "start_time": "2024-09-08T13:25:44.050734Z"
    }
   },
   "source": [
    "settlementDays = 2\n",
    "\n",
    "# Holiday calendar of united states\n",
    "calendar = ql.UnitedStates(ql.UnitedStates.NYSE)\n",
    "\n",
    "forwardRate = 0.05\n",
    "\n",
    "\"\"\"Day Counter provides methods for determining the length of a time period according to given market convention,\n",
    "both as a number of days and as a year fraction.\"\"\"\n",
    "dayCounter = ql.Actual360()\n",
    "\n",
    "# Construct flat forward rate term structure\n",
    "flatForwardTermStructure = ql.FlatForward(settlementDays, calendar, forwardRate, dayCounter)\n",
    "\n",
    "flatForwardTermStructure.referenceDate()\n",
    "\n",
    "print(\"Max Date: \", flatForwardTermStructure.maxDate())"
   ],
   "outputs": [
    {
     "name": "stdout",
     "output_type": "stream",
     "text": [
      "Max Date:  December 31st, 2199\n"
     ]
    }
   ],
   "execution_count": 15
  },
  {
   "cell_type": "code",
   "id": "5f21e8a5",
   "metadata": {
    "ExecuteTime": {
     "end_time": "2024-09-08T13:22:57.566198Z",
     "start_time": "2024-09-08T13:22:57.561876Z"
    }
   },
   "source": [
    "import math"
   ],
   "outputs": [],
   "execution_count": 3
  },
  {
   "cell_type": "code",
   "id": "0f9f6d7c",
   "metadata": {
    "ExecuteTime": {
     "end_time": "2024-09-08T13:22:59.827635Z",
     "start_time": "2024-09-08T13:22:59.823016Z"
    }
   },
   "source": [
    "r = math.exp(0.015*1/396)"
   ],
   "outputs": [],
   "execution_count": 4
  },
  {
   "cell_type": "code",
   "id": "bd898d7a",
   "metadata": {
    "ExecuteTime": {
     "end_time": "2024-09-08T13:23:01.944028Z",
     "start_time": "2024-09-08T13:23:01.932955Z"
    }
   },
   "source": [
    "r"
   ],
   "outputs": [
    {
     "data": {
      "text/plain": [
       "1.000037879505289"
      ]
     },
     "execution_count": 5,
     "metadata": {},
     "output_type": "execute_result"
    }
   ],
   "execution_count": 5
  },
  {
   "cell_type": "code",
   "id": "82d45089",
   "metadata": {
    "ExecuteTime": {
     "end_time": "2024-09-08T13:23:04.642941Z",
     "start_time": "2024-09-08T13:23:04.638006Z"
    }
   },
   "source": [
    "d = math.exp(-0.19*math.sqrt(1/396))"
   ],
   "outputs": [],
   "execution_count": 6
  },
  {
   "cell_type": "code",
   "id": "fa143b67",
   "metadata": {
    "ExecuteTime": {
     "end_time": "2024-09-08T13:23:05.153415Z",
     "start_time": "2024-09-08T13:23:05.147762Z"
    }
   },
   "source": [
    "d"
   ],
   "outputs": [
    {
     "data": {
      "text/plain": [
       "0.9904975768423465"
      ]
     },
     "execution_count": 7,
     "metadata": {},
     "output_type": "execute_result"
    }
   ],
   "execution_count": 7
  },
  {
   "cell_type": "code",
   "id": "c126b1c2",
   "metadata": {
    "ExecuteTime": {
     "end_time": "2024-09-08T13:23:05.569640Z",
     "start_time": "2024-09-08T13:23:05.564899Z"
    }
   },
   "source": [
    "u = math.exp(0.19*math.sqrt(1/396))"
   ],
   "outputs": [],
   "execution_count": 8
  },
  {
   "cell_type": "code",
   "id": "2da037eb",
   "metadata": {
    "ExecuteTime": {
     "end_time": "2024-09-08T13:23:05.898208Z",
     "start_time": "2024-09-08T13:23:05.893214Z"
    }
   },
   "source": [
    "u"
   ],
   "outputs": [
    {
     "data": {
      "text/plain": [
       "1.0095935854663538"
      ]
     },
     "execution_count": 9,
     "metadata": {},
     "output_type": "execute_result"
    }
   ],
   "execution_count": 9
  },
  {
   "cell_type": "code",
   "id": "70b0299e",
   "metadata": {
    "ExecuteTime": {
     "end_time": "2024-09-08T13:23:06.101088Z",
     "start_time": "2024-09-08T13:23:06.097139Z"
    }
   },
   "source": [
    "p = (r-d)/(u-d)"
   ],
   "outputs": [],
   "execution_count": 10
  },
  {
   "cell_type": "code",
   "id": "98e95f1d",
   "metadata": {
    "ExecuteTime": {
     "end_time": "2024-09-08T13:23:06.331425Z",
     "start_time": "2024-09-08T13:23:06.325813Z"
    }
   },
   "source": [
    "p"
   ],
   "outputs": [
    {
     "data": {
      "text/plain": [
       "0.49959668801932927"
      ]
     },
     "execution_count": 11,
     "metadata": {},
     "output_type": "execute_result"
    }
   ],
   "execution_count": 11
  },
  {
   "cell_type": "code",
   "id": "49f104e5",
   "metadata": {
    "ExecuteTime": {
     "end_time": "2024-09-08T13:23:06.635968Z",
     "start_time": "2024-09-08T13:23:06.629765Z"
    }
   },
   "source": [
    "u-1"
   ],
   "outputs": [
    {
     "data": {
      "text/plain": [
       "0.009593585466353804"
      ]
     },
     "execution_count": 12,
     "metadata": {},
     "output_type": "execute_result"
    }
   ],
   "execution_count": 12
  },
  {
   "cell_type": "code",
   "id": "bacacb4d",
   "metadata": {
    "ExecuteTime": {
     "end_time": "2024-09-08T13:23:06.837704Z",
     "start_time": "2024-09-08T13:23:06.831676Z"
    }
   },
   "source": [
    "d-1"
   ],
   "outputs": [
    {
     "data": {
      "text/plain": [
       "-0.009502423157653483"
      ]
     },
     "execution_count": 13,
     "metadata": {},
     "output_type": "execute_result"
    }
   ],
   "execution_count": 13
  },
  {
   "cell_type": "code",
   "execution_count": null,
   "id": "81a959d8",
   "metadata": {},
   "outputs": [],
   "source": []
  }
 ],
 "metadata": {
  "kernelspec": {
   "display_name": "Python 3 (ipykernel)",
   "language": "python",
   "name": "python3"
  },
  "language_info": {
   "codemirror_mode": {
    "name": "ipython",
    "version": 3
   },
   "file_extension": ".py",
   "mimetype": "text/x-python",
   "name": "python",
   "nbconvert_exporter": "python",
   "pygments_lexer": "ipython3",
   "version": "3.11.5"
  }
 },
 "nbformat": 4,
 "nbformat_minor": 5
}
